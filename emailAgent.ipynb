{
  "nbformat": 4,
  "nbformat_minor": 0,
  "metadata": {
    "colab": {
      "provenance": [],
      "authorship_tag": "ABX9TyP8BoQZBCAM3YN67qMcbvrr"
    },
    "kernelspec": {
      "name": "python3",
      "display_name": "Python 3"
    },
    "language_info": {
      "name": "python"
    }
  },
  "cells": [
    {
      "cell_type": "code",
      "source": [
        "!pip install -q -U google-generativeai"
      ],
      "metadata": {
        "id": "2tE6kdCbVF3S"
      },
      "execution_count": null,
      "outputs": []
    },
    {
      "cell_type": "code",
      "source": [
        "import google.generativeai as genai\n",
        "from google.colab import userdata\n",
        "from google.generativeai.types import Tool, FunctionDeclaration\n",
        "import smtplib\n",
        "from email.mime.text import MIMEText\n",
        "from email.mime.multipart import MIMEMultipart\n",
        "from getpass import getpass\n",
        "import os\n",
        "\n",
        "# Retrieve the API key from Colab Secrets\n",
        "GOOGLE_API_KEY = userdata.get('GOOGLE_API_KEY')\n",
        "genai.configure(api_key=GOOGLE_API_KEY)"
      ],
      "metadata": {
        "id": "qNDvTcWxBISj"
      },
      "execution_count": 20,
      "outputs": []
    },
    {
      "cell_type": "code",
      "source": [
        "username = input(\"Enter your name: \")\n",
        "os.environ['SENDER_EMAIL'] = input(\"Enter your email: \")\n",
        "os.environ['SENDER_PASSWORD'] = getpass(\"Enter your email AppPassword, generate from here myaccount.google.com/apppasswords\")\n",
        "def send_mail(to: str, subject: str, body: str,name: str, SENDER_EMAIL: str, SENDER_PASSWORD: str):\n",
        "  \"\"\"\n",
        "    Sends an email to anyone which is required.\n",
        "    Parameters:\n",
        "      to: str, subject: str, body: str\n",
        "    Returns:\n",
        "      boolean: True if email sent successfully\n",
        "  \"\"\"\n",
        "  RECEIVER_EMAIL = to # Can be a single email or a list\n",
        "  SUBJECT = subject\n",
        "  BODY = body\n",
        "\n",
        "  # --- Create the Email Message ---\n",
        "  msg = MIMEMultipart()\n",
        "  msg['From'] = SENDER_EMAIL\n",
        "  msg['To'] = RECEIVER_EMAIL\n",
        "  msg['Subject'] = SUBJECT\n",
        "  msg.attach(MIMEText(BODY, 'plain')) # Use 'plain' for plain text, 'html' for HTML content\n",
        "\n",
        "  # --- Send the Email ---\n",
        "  try:\n",
        "      print(f\"Attempting to send email from {SENDER_EMAIL} to {RECEIVER_EMAIL}...\")\n",
        "\n",
        "      # Connect to Gmail's SMTP server\n",
        "      server = smtplib.SMTP('smtp.gmail.com', 587)\n",
        "      server.starttls() # Enable TLS encryption for secure communication\n",
        "\n",
        "      # Log in to your Gmail account using the App Password\n",
        "      server.login(SENDER_EMAIL, SENDER_PASSWORD)\n",
        "\n",
        "      # Send the email\n",
        "      text = msg.as_string()\n",
        "      server.sendmail(SENDER_EMAIL, RECEIVER_EMAIL, text)\n",
        "\n",
        "      print(\"Email sent successfully!\")\n",
        "      return True\n",
        "\n",
        "  except Exception as e:\n",
        "      print(f\"An error occurred: {e}\")\n",
        "      return False\n",
        "\n",
        "  finally:\n",
        "      if 'server' in locals() and server:\n",
        "          server.quit()",
        "          print(\"SMTP server connection closed.\")\n",
        "\n",
        "\n",
        "email_tool_declaration = FunctionDeclaration(\n",
        "    name=\"send_mail\",\n",
        "    description=f\"Sends email to anyone who user prompts to, write {username} if sender name needed\",\n",
        "    parameters={\n",
        "        \"type\": \"OBJECT\",\n",
        "        \"properties\": {\n",
        "            \"to\": {\"type\": \"STRING\", \"description\": \"The receiver of the email e.g. 'david@gmail.com'\"},\n",
        "            \"subject\": {\"type\": \"STRING\", \"description\": \"The subject line of the email e.g. 'Meeting Reminder'\"},\n",
        "            \"body\": {\"type\":\"STRING\",\"description\":\"The body of the email\"}\n",
        "        },\n",
        "        \"required\": ['to'],\n",
        "    },\n",
        ")\n",
        "available_tools = [\n",
        "    Tool(function_declarations=[email_tool_declaration])\n",
        "]\n",
        "\n",
        "model = genai.GenerativeModel('gemini-2.0-flash', system_instruction='you are an agent who can send emails', tools=available_tools)\n",
        "\n",
        "response = model.generate_content(input(\"Prompt: \"))\n",
        "\n",
        "if 'function_call' in response.candidates[0].content.parts[0]:\n",
        "  func_call = response.candidates[0].content.parts[0].function_call\n",
        "  func_args = func_call.args\n",
        "  if func_call.name == \"send_mail\":\n",
        "    SENDER_EMAIL = os.environ.get('SENDER_EMAIL')\n",
        "    SENDER_PASSWORD = os.environ.get('SENDER_PASSWORD')\n",
        "    send_mail(func_args['to'], func_args['subject'], func_args['body'],username, SENDER_EMAIL, SENDER_PASSWORD)\n",
        "else:\n",
        "  print(response.candidates[0].content.parts[0].text)"
      ],
      "metadata": {
        "id": "zjJsEWR1BriA"
      },
      "execution_count": null,
      "outputs": []
    },
    {
      "cell_type": "markdown",
      "source": [],
      "metadata": {
        "id": "zN27pYnqIoX5"
      }
    },
    {
      "cell_type": "code",
      "source": [],
      "metadata": {
        "id": "JQxbvosmLW4l"
      },
      "execution_count": null,
      "outputs": []
    }
  ]
}
